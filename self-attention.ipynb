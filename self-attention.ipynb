{
 "cells": [
  {
   "cell_type": "code",
   "execution_count": 11,
   "metadata": {},
   "outputs": [],
   "source": [
    "from tensorflow.keras.layers import Layer, Conv2D, Input\n",
    "from tensorflow.keras.models import Model\n",
    "import tensorflow.keras.backend as K\n",
    "import tensorflow as tf"
   ]
  },
  {
   "cell_type": "code",
   "execution_count": 58,
   "metadata": {},
   "outputs": [],
   "source": [
    "# SAGAN https://arxiv.org/pdf/1805.08318.pdf\n",
    "# following https://github.com/taki0112/Self-Attention-GAN-Tensorflow Code2\n",
    "# shape of kernel line\n",
    "# https://github.com/tensorflow/tensorflow/blob/d5163e15c21874fddb03fedaf2cc6316a590f490/tensorflow/python/keras/layers/convolutional.py#L194\n",
    "# Based off googles attention mechanism\n",
    "class SelfAttention(Model):\n",
    "    def __init__(self, channels, **kwargs):\n",
    "        super(SelfAttention, self).__init__()\n",
    "\n",
    "        self.channels = channels\n",
    "        self.filters_f = channels // 8\n",
    "        self.filters_g = channels // 8\n",
    "        self.filters_h = channels // 2\n",
    "        \n",
    "        self.f = Conv2D(self.filters_f, (1,1), strides=(1,1), padding='same')\n",
    "        self.g = Conv2D(self.filters_g, (1,1), strides=(1,1), padding='same')\n",
    "        self.h = Conv2D(self.filters_h, (1,1), strides=(1,1), padding='same')\n",
    "        self.v = Conv2D(self.channels, (1,1), strides=(1,1), padding='same')\n",
    "\n",
    "        self.gamma = tf.Variable(0.0, trainable=True, name='gamma')\n",
    "    \n",
    "    \n",
    "    def call(self, x):\n",
    "        def hw_flatten(x):\n",
    "            return K.reshape(x, shape=[K.shape(x)[0], -1, K.shape(x)[-1]])\n",
    "        \n",
    "\n",
    "        f = self.f(x)\n",
    "        f = K.pool2d(x,(2,2),(2,2), padding='same')\n",
    "        \n",
    "        g = self.g(x)\n",
    "        \n",
    "        h = self.h(x)\n",
    "        h = K.pool2d(x,(2,2),(2,2), padding='same')\n",
    "        \n",
    "        s = tf.matmul(hw_flatten(g), K.transpose(hw_flatten(f)))\n",
    "\n",
    "        beta = K.softmax(s)\n",
    "        \n",
    "        \n",
    "        o = tf.matmul(beta, hw_flatten(h))\n",
    "        o = K.reshape(o, shape=K.shape(x))\n",
    "        o = self.v(o)\n",
    "        \n",
    "        x = self.gamma * o + x\n",
    "        \n",
    "        return x\n",
    "        "
   ]
  },
  {
   "cell_type": "code",
   "execution_count": 61,
   "metadata": {},
   "outputs": [],
   "source": [
    "inputs = Input(shape=(32,32,64))\n",
    "x = SelfAttention(64)(inputs)\n",
    "model = Model(inputs, x)"
   ]
  },
  {
   "cell_type": "code",
   "execution_count": 62,
   "metadata": {},
   "outputs": [
    {
     "name": "stdout",
     "output_type": "stream",
     "text": [
      "Model: \"model_3\"\n",
      "_________________________________________________________________\n",
      "Layer (type)                 Output Shape              Param #   \n",
      "=================================================================\n",
      "input_25 (InputLayer)        [(None, 32, 32, 64)]      0         \n",
      "_________________________________________________________________\n",
      "self_attention_22 (SelfAtten (None, 32, 32, 64)        7281      \n",
      "=================================================================\n",
      "Total params: 7,281\n",
      "Trainable params: 7,281\n",
      "Non-trainable params: 0\n",
      "_________________________________________________________________\n"
     ]
    }
   ],
   "source": [
    "model.summary()"
   ]
  }
 ],
 "metadata": {
  "kernelspec": {
   "display_name": "Python 3",
   "language": "python",
   "name": "python3"
  },
  "language_info": {
   "codemirror_mode": {
    "name": "ipython",
    "version": 3
   },
   "file_extension": ".py",
   "mimetype": "text/x-python",
   "name": "python",
   "nbconvert_exporter": "python",
   "pygments_lexer": "ipython3",
   "version": "3.7.7"
  }
 },
 "nbformat": 4,
 "nbformat_minor": 4
}
